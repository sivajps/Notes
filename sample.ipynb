{
 "cells": [
  {
   "cell_type": "markdown",
   "metadata": {},
   "source": [
    "# syntax to open file\n",
    "open(filename, mode, encoding=None)\n",
    "\n",
    "# operations \n",
    "\n",
    "'r'-open for reading (default)\n",
    "\n",
    "'w'-open for writing, truncating the file first\n",
    "\n",
    "'x'-open for exclusive creation, failing if the file already exists\n",
    "\n",
    "'a'-open for writing, appending to the end of file if it exists\n",
    "\n",
    "'b'-binary mode\n",
    "\n",
    "'t'-text mode (default)\n",
    "\n",
    "'+'- open for updating (reading and writing)\n",
    "\n",
    "\n",
    "\n"
   ]
  },
  {
   "cell_type": "markdown",
   "metadata": {},
   "source": [
    "method 1\n",
    "\n",
    "pypdf\n",
    "\n",
    "Basic, for simple PDFs\n",
    "\n",
    "Works on uncompressed PDFs"
   ]
  },
  {
   "cell_type": "code",
   "execution_count": null,
   "metadata": {},
   "outputs": [],
   "source": [
    "# importing required modules\n",
    "from pypdf import PdfReader\n",
    "\n",
    "# creating a pdf reader object\n",
    "reader = PdfReader('notes.txt')\n",
    "\n",
    "# printing number of pages in pdf file\n",
    "print(len(reader.pages))\n",
    "\n",
    "# getting a specific page from the pdf file\n",
    "page = reader.pages[0]\n",
    "\n",
    "# extracting text from page\n",
    "text = page.extract_text()\n",
    "print(text)\n"
   ]
  },
  {
   "cell_type": "markdown",
   "metadata": {},
   "source": [
    "method 2\n",
    "\n",
    "PyMuPDF\n",
    "\n",
    "Extracts text, images, metadata\n",
    "\n",
    "Fast & accurate text "
   ]
  },
  {
   "cell_type": "code",
   "execution_count": null,
   "metadata": {},
   "outputs": [],
   "source": [
    "import fitz  # PyMuPDF\n",
    "\n",
    "with fitz.open(\"notes.txt\") as doc:\n",
    "    text = \"\"\n",
    "    for page in doc:\n",
    "        text += page.get_text()\n",
    "\n",
    "    print(text)"
   ]
  },
  {
   "cell_type": "markdown",
   "metadata": {},
   "source": [
    "method 3\n",
    "\n",
    "pdfplumber\n",
    "\n",
    "Best for accuracy"
   ]
  }
 ],
 "metadata": {
  "kernelspec": {
   "display_name": "Python 3",
   "language": "python",
   "name": "python3"
  },
  "language_info": {
   "codemirror_mode": {
    "name": "ipython",
    "version": 3
   },
   "file_extension": ".py",
   "mimetype": "text/x-python",
   "name": "python",
   "nbconvert_exporter": "python",
   "pygments_lexer": "ipython3",
   "version": "3.12.9"
  }
 },
 "nbformat": 4,
 "nbformat_minor": 2
}
